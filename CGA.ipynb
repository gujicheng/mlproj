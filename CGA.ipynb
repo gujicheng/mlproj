{
 "cells": [
  {
   "cell_type": "code",
   "execution_count": 17,
   "metadata": {},
   "outputs": [],
   "source": [
    "import itertools\n",
    "import random"
   ]
  },
  {
   "cell_type": "code",
   "execution_count": 18,
   "metadata": {},
   "outputs": [],
   "source": [
    "'''\n",
    "Transformation rules:\n",
    "string_tuple        num_set       binary     index\n",
    "('A',)              (1,)          001        1\n",
    "('B',)              (2,)          010        2\n",
    "('C',)              (3,)          100        4\n",
    "('A','B')           (1,2)         011        3\n",
    "('A','C')           (1,3)         101        5\n",
    "('B','C')           (2,3)         110        6\n",
    "('A','B','C')       (1,2,3)       111        7\n",
    "'''\n",
    "\n",
    "random.seed(10)\n",
    "\n",
    "\n",
    "\n",
    "class dataset:\n",
    "    def __init__(self,N,K,input_for_characteristic_function):\n",
    "        self.N = N\n",
    "        self.K = K\n",
    "        \n",
    "        self.vfunction_for_N = [-1] * 2**N #v() for set N\n",
    "        self.vfunction_for_K = [-1] * 2**N #v() for set K\n",
    "        self.string_into_num = [-1] * (N+1) #string_into_num[0] = -1 forever it record the relationship between string and num\n",
    "        for i in range(1,N+1):\n",
    "            self.string_into_num[i] = input_for_characteristic_function[i-1]\n",
    "\n",
    "\n",
    "    #transform the index of array into num set\n",
    "    #input: 7   output:(1,2,3)\n",
    "    def index_into_num_set(self,index):\n",
    "        set = ()\n",
    "        for i in range(0,self.N):\n",
    "            if index & (1 << i) > 0:\n",
    "                set = set + (i+1,)\n",
    "        return set\n",
    "\n",
    "    #transform num set into the index of array\n",
    "    #input: (1,2,3)   output:7\n",
    "    def num_set_into_index(self,set):\n",
    "        index = 0\n",
    "        for i in set:\n",
    "            index = index + 2**(i-1)\n",
    "        return index\n",
    "\n",
    "    #transform string_tuple into num_set\n",
    "    #input:('A','B','C')   output:(1,2,3)\n",
    "    def string_tuple_into_num_set(self,string_tuple):\n",
    "        num_set = ()\n",
    "        for i in string_tuple:\n",
    "\n",
    "            num_set = num_set + (self.string_into_num.index(i),)\n",
    "        return num_set\n",
    "\n",
    "    #transform num_set into string_tuple\n",
    "    #input:(1,2,3)   output:('A','B','C')\n",
    "    def num_set_into_string_tuple(self,num_set):\n",
    "        string_tuple = ()\n",
    "        for i in num_set:\n",
    "            string_tuple = string_tuple + (self.string_into_num[i],)\n",
    "        return string_tuple\n",
    "\n",
    "    #input:(1,2)     output:[1,1,0]\n",
    "    def num_set_into_learning_need(self,num_set):\n",
    "        array = []\n",
    "        for i in range(1,self.N+1):\n",
    "            if i in num_set:\n",
    "                array.append(1)\n",
    "            else:\n",
    "                array.append(0)\n",
    "        return array\n",
    "\n",
    "    def generate_dataset(self,characteristic_function,random_size):\n",
    "\n",
    "        data = []\n",
    "        target = []\n",
    "        for i in characteristic_function.keys():\n",
    "            \n",
    "            self.vfunction_for_N[self.num_set_into_index(self.string_tuple_into_num_set(i))] = characteristic_function[i]\n",
    "            if(len(i) <= self.K):\n",
    "                self.vfunction_for_K[self.num_set_into_index(self.string_tuple_into_num_set(i))] = characteristic_function[i]\n",
    "            \n",
    "            data.append(self.num_set_into_learning_need(self.string_tuple_into_num_set(i)))\n",
    "            target.append(characteristic_function[i])\n",
    "\n",
    "        random_index = random.sample(range(0,len(data)),int(random_size * len(data)))\n",
    "\n",
    "\n",
    "        partial_data = []\n",
    "        partial_target = []\n",
    "        \n",
    "        for i in random_index:\n",
    "            partial_data.append(data[i])\n",
    "            partial_target.append(target[i])\n",
    "\n",
    "        \n",
    "        return partial_data,partial_target"
   ]
  },
  {
   "cell_type": "code",
   "execution_count": 19,
   "metadata": {},
   "outputs": [],
   "source": [
    "class CGA:\n",
    "    def __init__(self, N, k):\n",
    "        self.N = N\n",
    "        self.order = k\n",
    "        self.gen_w_vec()\n",
    "        self.gen_v_func()\n",
    "\n",
    "    def gen_w_vec(self):\n",
    "        self.w_vec = {}\n",
    "        self.coalitions = []\n",
    "        for i in range(1, self.order+1):\n",
    "            for j in list(itertools.combinations(self.N, i)):\n",
    "                self.w_vec[j] = 0\n",
    "\n",
    "    def gen_v_func(self):\n",
    "        self.v_func = {}\n",
    "        for i in range(1, len(self.N)+1):\n",
    "            for j in itertools.combinations(self.N, i):\n",
    "                value = 0\n",
    "                for m in range(1, self.order+1):\n",
    "                    if m > len(j):\n",
    "                        break\n",
    "                    for n in itertools.combinations(j, m):\n",
    "                        value = value+self.w_vec[n]\n",
    "                self.v_func[j] = value\n",
    "\n",
    "    def update_w_vec(self, w_v_new):\n",
    "        for i in w_v_new:\n",
    "            if i in self.w_vec:\n",
    "                self.w_vec[i] = w_v_new[i]\n",
    "        self.gen_v_func()\n",
    "\n",
    "    def show_w_vec(self):\n",
    "        print(self.w_vec)\n",
    "\n",
    "    def show_v_func(self):\n",
    "        print(self.v_func)\n",
    "\n",
    "    def show_coalitions(self):\n",
    "        print(self.coalitions)\n",
    "\n",
    "\n",
    "def harsanyiDividends(N, v_func):\n",
    "    dividends = {}\n",
    "    for size in range(1, len(N)+1):\n",
    "        for coalition in set(itertools.combinations(N, r=size)):\n",
    "            base, shift = v_func[coalition], 0\n",
    "            for smallsize in range(1, size):\n",
    "                for subs in set(itertools.combinations(coalition, r=smallsize)):\n",
    "                    shift += dividends[subs]\n",
    "            dividends[coalition] = base - shift\n",
    "    return dividends\n"
   ]
  },
  {
   "cell_type": "code",
   "execution_count": 20,
   "metadata": {
    "scrolled": true
   },
   "outputs": [
    {
     "name": "stdout",
     "output_type": "stream",
     "text": [
      "{('A',): 0, ('B',): 0, ('C',): 0, ('A', 'B'): 0, ('A', 'C'): 0, ('B', 'C'): 0, ('A', 'B', 'C'): 0}\n",
      "{('A',): 0, ('B',): 0, ('C',): 0, ('A', 'B'): 0, ('A', 'C'): 0, ('B', 'C'): 0}\n",
      "{('C',): 1, ('A',): 1, ('B',): 1, ('A', 'C'): 0, ('A', 'B'): 0, ('B', 'C'): 0, ('A', 'B', 'C'): 1}\n",
      "{('A',): 1, ('B',): 1, ('C',): 1, ('A', 'B'): 2, ('A', 'C'): 2, ('B', 'C'): 2, ('A', 'B', 'C'): 3}\n"
     ]
    }
   ],
   "source": [
    "N=[\"A\",\"B\",\"C\"]\n",
    "v_func={('A',): 1, ('B',): 1, ('C',): 1, ('A', 'B'): 2, ('A', 'C'): 2, ('B', 'C'): 2, ('A', 'B', 'C'): 4}\n",
    "\n",
    "cga=CGA(N,2)\n",
    "cga.show_v_func()\n",
    "cga.show_w_vec()\n",
    "\n",
    "print(harsanyiDividends(N,v_func))\n",
    "cga.update_w_vec(harsanyiDividends(N,v_func))\n",
    "cga.show_v_func()\n"
   ]
  },
  {
   "cell_type": "code",
   "execution_count": 21,
   "metadata": {},
   "outputs": [
    {
     "name": "stdout",
     "output_type": "stream",
     "text": [
      "data: [[0, 1, 1], [1, 0, 0], [1, 1, 0], [1, 1, 1], [0, 0, 1], [1, 0, 1], [0, 1, 0]]\n",
      "target: [500, 200, 400, 800, 300, 500, 100]\n"
     ]
    }
   ],
   "source": [
    "characteristic_function = {('A',):200,('B',):100,('C',):300,('A','B'):400,('B','C'):500,('A','C'):500,('A','B','C'):800}\n",
    "input_for_characteristic_function = ('A','B','C')\n",
    "N = 3 # # of element in set N\n",
    "K = 2 # the maximum number of element in set K\n",
    "random_size = 1 # how much data should we randomize\n",
    "data1 = dataset(N,K,input_for_characteristic_function)\n",
    "data,target = data1.generate_dataset(characteristic_function,random_size)\n",
    "print(\"data:\",data)\n",
    "print(\"target:\",target)"
   ]
  },
  {
   "cell_type": "code",
   "execution_count": 22,
   "metadata": {},
   "outputs": [
    {
     "name": "stdout",
     "output_type": "stream",
     "text": [
      "[[1, 1, 1], [1, 1, 0], [0, 0, 1]]\n",
      "[549.55205448 200.94844798 449.21942786]\n"
     ]
    }
   ],
   "source": [
    "import pandas as pd\n",
    "from sklearn.datasets import load_breast_cancer\n",
    "import numpy as np\n",
    "from sklearn import preprocessing\n",
    "from sklearn.linear_model import LogisticRegression\n",
    "from sklearn.model_selection import train_test_split\n",
    "from sklearn.linear_model import SGDRegressor\n",
    "\n",
    "'''\n",
    "data = [\n",
    "    [1,0,0],\n",
    "    [0,1,0],\n",
    "    [0,0,1],\n",
    "    [1,1,0],\n",
    "    [1,0,1],\n",
    "    [0,1,1],\n",
    "    [1,1,1]\n",
    "]\n",
    "target = [200,100,300,400,500,500,800]\n",
    "'''\n",
    "X_train, X_test, y_train, y_test = train_test_split(data, target, test_size=0.33)\n",
    "\n",
    "sgd = SGDRegressor(penalty = 'l2',max_iter=1e9)\n",
    "sgd.fit(X_train, y_train)\n",
    "y_pred_sklearn = sgd.predict(X_test)\n",
    "print(X_test)\n",
    "print(y_pred_sklearn)"
   ]
  },
  {
   "cell_type": "code",
   "execution_count": 23,
   "metadata": {},
   "outputs": [
    {
     "name": "stdout",
     "output_type": "stream",
     "text": [
      "[[1, 0, 0], [1, 0, 1], [0, 1, 0], [0, 1, 1]]\n",
      "[200, 500, 100, 500]\n",
      "[[1 0 1 1]\n",
      " [0 0 1 1]\n",
      " [1 1 0 1]\n",
      " [0 0 1 1]\n",
      " [1 0 0 1]\n",
      " [0 0 0 1]]\n"
     ]
    }
   ],
   "source": [
    "print(X_train)\n",
    "print(y_train)\n",
    "X_train_new = [\n",
    "    [1,0,1,0,1,0],\n",
    "    [0,0,1,0,0,0],\n",
    "    [1,1,0,1,0,0],\n",
    "    [1,1,1,1,1,1]\n",
    "]\n",
    "X_train_new = np.array(X_train_new).T\n",
    "print(X_train_new)"
   ]
  },
  {
   "cell_type": "code",
   "execution_count": 24,
   "metadata": {},
   "outputs": [
    {
     "name": "stdout",
     "output_type": "stream",
     "text": [
      "7.0\n"
     ]
    }
   ],
   "source": [
    "from scipy.special import comb, perm\n",
    "\n",
    "def compute_w_vec_size(N,k):\n",
    "    C = 0\n",
    "    for i in range(k+1):\n",
    "        C = C + comb(N,i)\n",
    "    return C\n",
    "\n",
    "N=3\n",
    "k=2\n",
    "print(compute_w_vec_size(3,2))"
   ]
  },
  {
   "cell_type": "code",
   "execution_count": 25,
   "metadata": {},
   "outputs": [
    {
     "name": "stdout",
     "output_type": "stream",
     "text": [
      "{(1,): array([-50.64034413]), (2,): array([75.10005665]), (3,): array([349.16490466]), (1, 2): array([99.5587301]), (1, 3): array([247.37743373]), (2, 3): array([498.85718701]), (1, 2, 3): array([472.16873366])}\n",
      "[500, 200, 400, 800, 300, 500, 100]\n"
     ]
    }
   ],
   "source": [
    "n_iter=100  # number of iterations\n",
    "r=0.1      # learning rate\n",
    "\n",
    "N=len(X_train)\n",
    "cga = CGA([1,2,3],2)\n",
    "w_BGD = np.array(list(cga.w_vec.values())).reshape(-1,1)\n",
    "length = len(cga.w_vec.values())\n",
    "gradient = np.zeros((1,length))\n",
    "\n",
    "for i in range(6):\n",
    "    gradient[0][i] = np.random.rand()\n",
    "             \n",
    "for j in range(n_iter):\n",
    "    for i in range(N):\n",
    "        temp = X_train_new.T[i].reshape(-1,1)\n",
    "        gradient = gradient + 2 *(np.dot(np.array(w_BGD).T,temp)-y_train[i])* temp.T\n",
    "    gradient = gradient/N\n",
    "    w_BGD = (1-r/N)*w_BGD - r*gradient.T\n",
    "    \n",
    "# print(w_BGD)\n",
    "    \n",
    "new_w_vec={}\n",
    "for i in range(len(cga.w_vec.keys())):\n",
    "    new_w_vec[list(cga.w_vec.keys())[i]]=w_BGD[i]\n",
    "    \n",
    "cga.update_w_vec(new_w_vec)\n",
    "y_pred_BGD = cga.v_func\n",
    "print(y_pred_BGD)\n",
    "print(target)"
   ]
  },
  {
   "cell_type": "code",
   "execution_count": null,
   "metadata": {},
   "outputs": [],
   "source": []
  },
  {
   "cell_type": "code",
   "execution_count": null,
   "metadata": {},
   "outputs": [],
   "source": []
  }
 ],
 "metadata": {
  "interpreter": {
   "hash": "8fcb03002c0448fd7688adb99a6d9f2edcc323717d5f694c6c16000aad5b8e97"
  },
  "kernelspec": {
   "display_name": "Python 3 (ipykernel)",
   "language": "python",
   "name": "python3"
  },
  "language_info": {
   "codemirror_mode": {
    "name": "ipython",
    "version": 3
   },
   "file_extension": ".py",
   "mimetype": "text/x-python",
   "name": "python",
   "nbconvert_exporter": "python",
   "pygments_lexer": "ipython3",
   "version": "3.9.5"
  }
 },
 "nbformat": 4,
 "nbformat_minor": 2
}
